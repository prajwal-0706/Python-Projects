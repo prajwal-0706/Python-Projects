{
 "cells": [
  {
   "cell_type": "code",
   "execution_count": 2,
   "id": "5ca5335b",
   "metadata": {},
   "outputs": [],
   "source": [
    "import pywhatkit\n",
    "import os"
   ]
  },
  {
   "cell_type": "code",
   "execution_count": 4,
   "id": "e8660e82",
   "metadata": {},
   "outputs": [
    {
     "name": "stdout",
     "output_type": "stream",
     "text": [
      "Enter no. : +917972968890\n",
      "In 40 Seconds WhatsApp will open and after 15 Seconds Message will be Delivered!\n"
     ]
    }
   ],
   "source": [
    "phone_number = input(\"Enter no. : \")\n",
    "pywhatkit.send_mail()\n",
    "pywhatkit.sendwhatmsg(phone_number, \"Hiiiiii from python\", 11, 35)"
   ]
  },
  {
   "cell_type": "code",
   "execution_count": null,
   "id": "cb16a573",
   "metadata": {},
   "outputs": [],
   "source": []
  }
 ],
 "metadata": {
  "kernelspec": {
   "display_name": "Python 3 (ipykernel)",
   "language": "python",
   "name": "python3"
  },
  "language_info": {
   "codemirror_mode": {
    "name": "ipython",
    "version": 3
   },
   "file_extension": ".py",
   "mimetype": "text/x-python",
   "name": "python",
   "nbconvert_exporter": "python",
   "pygments_lexer": "ipython3",
   "version": "3.11.3"
  }
 },
 "nbformat": 4,
 "nbformat_minor": 5
}
