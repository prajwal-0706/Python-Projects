{
 "cells": [
  {
   "cell_type": "code",
   "execution_count": 1,
   "id": "5ca5335b",
   "metadata": {},
   "outputs": [],
   "source": [
    "import pywhatkit\n",
    "import os"
   ]
  },
  {
   "cell_type": "code",
   "execution_count": null,
   "id": "5cbbe84c",
   "metadata": {},
   "outputs": [],
   "source": [
    "def lang():\n",
    "    \n",
    "    return output"
   ]
  },
  {
   "cell_type": "code",
   "execution_count": null,
   "id": "e4ec3a7e",
   "metadata": {},
   "outputs": [],
   "source": []
  },
  {
   "cell_type": "code",
   "execution_count": 2,
   "id": "e8660e82",
   "metadata": {},
   "outputs": [
    {
     "name": "stdout",
     "output_type": "stream",
     "text": [
      "Enter no. : +917709027812\n",
      "Enter your msg : Hii i m prajwal\n"
     ]
    }
   ],
   "source": [
    "phone_number = input(\"Enter no. : \")\n",
    "\n",
    "msg = lang()W\n",
    "\n",
    "# pywhatkit.send_mail()\n",
    "pywhatkit.sendwhatmsg_instantly(phone_number, msg)"
   ]
  },
  {
   "cell_type": "code",
   "execution_count": null,
   "id": "cb16a573",
   "metadata": {},
   "outputs": [],
   "source": []
  }
 ],
 "metadata": {
  "kernelspec": {
   "display_name": "Python 3 (ipykernel)",
   "language": "python",
   "name": "python3"
  },
  "language_info": {
   "codemirror_mode": {
    "name": "ipython",
    "version": 3
   },
   "file_extension": ".py",
   "mimetype": "text/x-python",
   "name": "python",
   "nbconvert_exporter": "python",
   "pygments_lexer": "ipython3",
   "version": "3.11.3"
  }
 },
 "nbformat": 4,
 "nbformat_minor": 5
}
