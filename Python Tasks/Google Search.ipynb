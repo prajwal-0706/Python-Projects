{
 "cells": [
  {
   "cell_type": "code",
   "execution_count": 1,
   "id": "a488d42c",
   "metadata": {},
   "outputs": [],
   "source": [
    "from googlesearch import search\n",
    "\n"
   ]
  },
  {
   "cell_type": "code",
   "execution_count": 6,
   "id": "5c3cc206",
   "metadata": {},
   "outputs": [],
   "source": [
    "def search_google(query, num_results=5):\n",
    "    search_results = list(search(query, num_results=num_results))\n",
    "    return search_results\n"
   ]
  },
  {
   "cell_type": "code",
   "execution_count": 8,
   "id": "68ad2ef8",
   "metadata": {},
   "outputs": [
    {
     "name": "stdout",
     "output_type": "stream",
     "text": [
      "Enter your Prompt to Search: Vimal Daga\n",
      "Top 5 search results:\n",
      "1. https://in.linkedin.com/in/vimaldaga\n",
      "2. https://www.crunchbase.com/person/vimal-daga\n",
      "3. https://www.lwindia.com/\n",
      "4. https://in.pinterest.com/linuxwindia/india-sets-new-world-record-proud-of-you-vimal-dag/\n",
      "5. https://www.lwindia.com/\n",
      "6. https://in.pinterest.com/linuxwindia/india-sets-new-world-record-proud-of-you-vimal-dag/\n"
     ]
    }
   ],
   "source": [
    "query = input(\"Enter your Prompt to Search: \")\n",
    "\n",
    "# Get the first five search results\n",
    "results = search_google(query, num_results=5)\n",
    "\n",
    "# Print the results\n",
    "print(\"Top 5 search results:\")\n",
    "for i, result in enumerate(results, start=1):\n",
    "    print(f\"{i}. {result}\")"
   ]
  },
  {
   "cell_type": "code",
   "execution_count": null,
   "id": "685ae5ea",
   "metadata": {},
   "outputs": [],
   "source": []
  }
 ],
 "metadata": {
  "kernelspec": {
   "display_name": "Python 3 (ipykernel)",
   "language": "python",
   "name": "python3"
  },
  "language_info": {
   "codemirror_mode": {
    "name": "ipython",
    "version": 3
   },
   "file_extension": ".py",
   "mimetype": "text/x-python",
   "name": "python",
   "nbconvert_exporter": "python",
   "pygments_lexer": "ipython3",
   "version": "3.11.3"
  }
 },
 "nbformat": 4,
 "nbformat_minor": 5
}
