{
 "cells": [
  {
   "cell_type": "code",
   "execution_count": 1,
   "id": "6d20652a",
   "metadata": {},
   "outputs": [],
   "source": [
    "import tkinter as tk\n",
    "import os\n",
    "from PIL import ImageTk"
   ]
  },
  {
   "cell_type": "code",
   "execution_count": 6,
   "id": "2d964eb4",
   "metadata": {},
   "outputs": [
    {
     "ename": "SyntaxError",
     "evalue": "expression cannot contain assignment, perhaps you meant \"==\"? (2872865860.py, line 28)",
     "output_type": "error",
     "traceback": [
      "\u001b[1;36m  Cell \u001b[1;32mIn[6], line 28\u001b[1;36m\u001b[0m\n\u001b[1;33m    label = tk.Label(root, text=\"Menu\", -sticky =  tk.W, font= (\"Arial\", 20))\u001b[0m\n\u001b[1;37m                                        ^\u001b[0m\n\u001b[1;31mSyntaxError\u001b[0m\u001b[1;31m:\u001b[0m expression cannot contain assignment, perhaps you meant \"==\"?\n"
     ]
    }
   ],
   "source": [
    "def on_button_click_1():\n",
    "    result_label.config(text=\"Opening the Notepad\")\n",
    "    os.system(\"notepad\")\n",
    "    \n",
    "def on_button_click_2():\n",
    "    result_label.config(text=\"Opening the Notepad\")\n",
    "    os.system(\"start iexplore\")\n",
    "    \n",
    "def on_button_click_3():\n",
    "    result_label.config(text=\"Opening the Calculator\")\n",
    "    os.system(\"calc\")\n",
    "    \n",
    "def on_button_click_4():\n",
    "    result_label.config(text=\"Opening the VS Code\")\n",
    "    os.system(\"code .\")\n",
    "        \n",
    "def main():\n",
    "    global root, result_label\n",
    "\n",
    "    root = tk.Tk()\n",
    "    root.title(\"Menu of Team 10\")\n",
    "    root.minsize(700,700)\n",
    "    \n",
    "    img = ImageTk.PhotoImage(file='image.jpg', master= root)\n",
    "    img_label= tk.Label(root,image=img)\n",
    "    img_label.grid(row = 0, column = 0, pady = 10)\n",
    "\n",
    "    label = tk.Label(root, text=\"Menu\", font= (\"Arial\", 20))\n",
    "    label.place(x = 0, y = 0)\n",
    "    \n",
    "    button_style_1 = {\n",
    "        \"font\": (\"Arial\", 12),\n",
    "        \"bg\": \"#4CAF50\",  \n",
    "        \"fg\": \"white\",    \n",
    "        \"bd\": 2,         \n",
    "    }\n",
    "    \n",
    "    button_style_2 = {\n",
    "        \"font\": (\"Arial\", 12),\n",
    "        \"bg\": \"#219EBC\",  \n",
    "        \"fg\": \"white\",    \n",
    "        \"bd\": 2,         \n",
    "    }\n",
    "    \n",
    "    button_style_3 = {\n",
    "        \"font\": (\"Arial\", 12),\n",
    "        \"bg\": \"#fb8500\",  \n",
    "        \"fg\": \"white\",    \n",
    "        \"bd\": 2,         \n",
    "    }\n",
    "    \n",
    "    button_style_4 = {\n",
    "        \"font\": (\"Arial\", 12),\n",
    "        \"bg\": \"#eaac8b\",  \n",
    "        \"fg\": \"white\",    \n",
    "        \"bd\": 2,         \n",
    "    }\n",
    "    \n",
    "\n",
    "    button = tk.Button(root, text=\"Open the Notepad\", command=on_button_click_1,**button_style_1)\n",
    "    button.pack(pady=10)\n",
    "    \n",
    "    button1 = tk.Button(root, text=\"Open the explorer\", command=on_button_click_2, **button_style_2)\n",
    "    button1.pack(pady=10)\n",
    "    \n",
    "    button2 = tk.Button(root, text=\"Open the Calculator\", command=on_button_click_3, **button_style_3)\n",
    "    button2.pack(pady=10)\n",
    "    \n",
    "    button3 = tk.Button(root, text=\"Open the VS Code\", command=on_button_click_4, **button_style_4)\n",
    "    button3.pack(pady=10)\n",
    "\n",
    "    result_label = tk.Label(root, text=\"\", fg=\"red\")\n",
    "    result_label.pack()\n",
    "\n",
    "    root.mainloop()\n",
    "\n",
    "\n",
    "main()"
   ]
  },
  {
   "cell_type": "code",
   "execution_count": null,
   "id": "73b13e15",
   "metadata": {},
   "outputs": [],
   "source": [
    "root = tk.Tk()\n",
    "root.title(\"Menu of Team 10\")\n",
    "root.minsize(700,700)\n",
    "\n",
    "label = tk.Label(root, text=\"Menu\", font= (\"Arial\", 20))\n",
    "label.grid(row = 0, column = 0, pady = 20 )\n",
    "\n",
    "root.mainloop()"
   ]
  },
  {
   "cell_type": "code",
   "execution_count": null,
   "id": "a7ca326d",
   "metadata": {},
   "outputs": [],
   "source": []
  }
 ],
 "metadata": {
  "kernelspec": {
   "display_name": "Python 3 (ipykernel)",
   "language": "python",
   "name": "python3"
  },
  "language_info": {
   "codemirror_mode": {
    "name": "ipython",
    "version": 3
   },
   "file_extension": ".py",
   "mimetype": "text/x-python",
   "name": "python",
   "nbconvert_exporter": "python",
   "pygments_lexer": "ipython3",
   "version": "3.11.3"
  }
 },
 "nbformat": 4,
 "nbformat_minor": 5
}
