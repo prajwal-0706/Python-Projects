{
 "cells": [
  {
   "cell_type": "code",
   "execution_count": 1,
   "id": "4cefbfb2",
   "metadata": {},
   "outputs": [],
   "source": [
    "import vonage\n",
    "client = vonage.Client(\"0ccbfdcf\", 'tLvC0xPMpBorJWeL')\n",
    "sms = vonage.Sms(client)"
   ]
  },
  {
   "cell_type": "code",
   "execution_count": 2,
   "id": "73476c11",
   "metadata": {},
   "outputs": [
    {
     "name": "stdout",
     "output_type": "stream",
     "text": [
      "Sucess\n"
     ]
    }
   ],
   "source": [
    "responseData = sms.send_message(\n",
    "\n",
    "    {\n",
    "        \"from\" : \"Vonage APIs\",\n",
    "        \"to\" : \"+917709027812\",\n",
    "        \"text\" : \"Text msg by python\"\n",
    "    }\n",
    "\n",
    ")\n",
    "\n",
    "if responseData['messages'][0]['status'] == '0':\n",
    "    print(\"Sucess\")\n",
    "    \n",
    "else:\n",
    "    print(\"Error\")"
   ]
  },
  {
   "cell_type": "code",
   "execution_count": null,
   "id": "34378a8f",
   "metadata": {},
   "outputs": [],
   "source": []
  }
 ],
 "metadata": {
  "kernelspec": {
   "display_name": "Python 3 (ipykernel)",
   "language": "python",
   "name": "python3"
  },
  "language_info": {
   "codemirror_mode": {
    "name": "ipython",
    "version": 3
   },
   "file_extension": ".py",
   "mimetype": "text/x-python",
   "name": "python",
   "nbconvert_exporter": "python",
   "pygments_lexer": "ipython3",
   "version": "3.11.3"
  }
 },
 "nbformat": 4,
 "nbformat_minor": 5
}
