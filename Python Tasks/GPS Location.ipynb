{
 "cells": [
  {
   "cell_type": "code",
   "execution_count": 2,
   "id": "bac28a0e",
   "metadata": {},
   "outputs": [],
   "source": [
    "from geopy.geocoders import Nominatim\n",
    "\n",
    "\n"
   ]
  },
  {
   "cell_type": "code",
   "execution_count": 3,
   "id": "f5f7af5d",
   "metadata": {},
   "outputs": [],
   "source": [
    "def get_latitude_longitude(location):\n",
    "    \n",
    "    geolocator = Nominatim(user_agent=\"myGeocoder\")\n",
    "    location_data = geolocator.geocode(location)\n",
    "\n",
    "    if location_data:\n",
    "        latitude = location_data.latitude\n",
    "        longitude = location_data.longitude\n",
    "        return latitude, longitude\n",
    "    else:\n",
    "        print(\"Error: Location not found.\")\n",
    "        return None, None\n",
    "\n"
   ]
  },
  {
   "cell_type": "code",
   "execution_count": 6,
   "id": "78aea088",
   "metadata": {},
   "outputs": [
    {
     "name": "stdout",
     "output_type": "stream",
     "text": [
      "Enter the location: Baramati\n",
      "Latitude: 18.21985375\n",
      "Longitude: 74.45340540036307\n"
     ]
    }
   ],
   "source": [
    "location = input(\"Enter the location: \")\n",
    "\n",
    "latitude, longitude = get_latitude_longitude(location)\n",
    "\n",
    "if latitude and longitude:\n",
    "    print(f\"Latitude: {latitude}\")\n",
    "    print(f\"Longitude: {longitude}\")\n",
    "    \n",
    "else:\n",
    "    print(\"Failed to get the latitude and longitude.\")"
   ]
  },
  {
   "cell_type": "code",
   "execution_count": null,
   "id": "f3f9afeb",
   "metadata": {},
   "outputs": [],
   "source": []
  }
 ],
 "metadata": {
  "kernelspec": {
   "display_name": "Python 3 (ipykernel)",
   "language": "python",
   "name": "python3"
  },
  "language_info": {
   "codemirror_mode": {
    "name": "ipython",
    "version": 3
   },
   "file_extension": ".py",
   "mimetype": "text/x-python",
   "name": "python",
   "nbconvert_exporter": "python",
   "pygments_lexer": "ipython3",
   "version": "3.11.3"
  }
 },
 "nbformat": 4,
 "nbformat_minor": 5
}
