{
 "cells": [
  {
   "cell_type": "code",
   "execution_count": 20,
   "id": "94e8a9c3",
   "metadata": {},
   "outputs": [],
   "source": [
    "import os"
   ]
  },
  {
   "cell_type": "code",
   "execution_count": 21,
   "id": "c814711d",
   "metadata": {},
   "outputs": [],
   "source": [
    "def main():\n",
    "    print(\"-------Menu--------\")\n",
    "    print(\"Enter 1 for Notepad\")\n",
    "    print(\"Enter 2 for Chrome\")\n",
    "    print(\"Enter 3 for Explorer\")\n",
    "    print(\"Enter 4 for calculator\")\n",
    "    \n",
    "    \n",
    "    ch = input(\"Enter Your Choice :- \")\n",
    "    \n",
    "    "
   ]
  },
  {
   "cell_type": "code",
   "execution_count": 22,
   "id": "0dc62383",
   "metadata": {},
   "outputs": [
    {
     "name": "stdout",
     "output_type": "stream",
     "text": [
      "-------Menu--------\n",
      "Enter 1 for Notepad\n",
      "Enter 2 for Chrome\n",
      "Enter 3 for Explorer\n",
      "Enter 4 for calculator\n",
      "Enter Your Choice :- 1\n"
     ]
    }
   ],
   "source": [
    "def perform(choice):\n",
    "    if ch == 1:\n",
    "        os.system(\"notepad\")\n",
    "    \n",
    "    elif ch == 2:\n",
    "        os.system(\"chrome\")\n",
    "    \n",
    "    elif ch == 3 :\n",
    "        os.system(\"start iexplore\")\n",
    "        \n",
    "    elif ch == 4:\n",
    "        os.system(\"calc\")"
   ]
  },
  {
   "cell_type": "code",
   "execution_count": 19,
   "id": "e0e61cb8",
   "metadata": {},
   "outputs": [
    {
     "data": {
      "text/plain": [
       "0"
      ]
     },
     "execution_count": 19,
     "metadata": {},
     "output_type": "execute_result"
    }
   ],
   "source": [
    "os.system(\"calc\")"
   ]
  },
  {
   "cell_type": "code",
   "execution_count": null,
   "id": "112d6940",
   "metadata": {},
   "outputs": [],
   "source": []
  }
 ],
 "metadata": {
  "kernelspec": {
   "display_name": "Python 3 (ipykernel)",
   "language": "python",
   "name": "python3"
  },
  "language_info": {
   "codemirror_mode": {
    "name": "ipython",
    "version": 3
   },
   "file_extension": ".py",
   "mimetype": "text/x-python",
   "name": "python",
   "nbconvert_exporter": "python",
   "pygments_lexer": "ipython3",
   "version": "3.11.3"
  }
 },
 "nbformat": 4,
 "nbformat_minor": 5
}
