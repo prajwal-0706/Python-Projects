{
 "cells": [
  {
   "cell_type": "code",
   "execution_count": 1,
   "id": "389891bd",
   "metadata": {},
   "outputs": [],
   "source": [
    "import pywhatkit\n",
    "import time"
   ]
  },
  {
   "cell_type": "code",
   "execution_count": 2,
   "id": "b187c311",
   "metadata": {},
   "outputs": [],
   "source": [
    "a = [\"vikramrajpuohit944\", \"sachinsingh58624\", \"chawalamona44\", \"prajwalgadhave356\"]"
   ]
  },
  {
   "cell_type": "code",
   "execution_count": 3,
   "id": "b98a4f12",
   "metadata": {},
   "outputs": [],
   "source": [
    "mails = [i + \"@gmail.com\" for i in a]"
   ]
  },
  {
   "cell_type": "code",
   "execution_count": 6,
   "id": "90bcfc77",
   "metadata": {},
   "outputs": [
    {
     "name": "stdout",
     "output_type": "stream",
     "text": [
      "Email Sent Successfully!\n",
      "Email Sent Successfully!\n",
      "Email Sent Successfully!\n",
      "Email Sent Successfully!\n"
     ]
    }
   ],
   "source": [
    "for i in mails:\n",
    "    pywhatkit.send_mail(\n",
    "        'gadhaveprajwal41@gmail.com',\n",
    "        'qxwe erbc uass emvy',\n",
    "        \"Hello\",\n",
    "        \"Hlo from python\",\n",
    "        'prajwalgadhave356@gmail.com'\n",
    "    )\n",
    "    time.sleep(5)\n",
    "    "
   ]
  },
  {
   "cell_type": "code",
   "execution_count": null,
   "id": "538d6d20",
   "metadata": {},
   "outputs": [],
   "source": []
  }
 ],
 "metadata": {
  "kernelspec": {
   "display_name": "Python 3 (ipykernel)",
   "language": "python",
   "name": "python3"
  },
  "language_info": {
   "codemirror_mode": {
    "name": "ipython",
    "version": 3
   },
   "file_extension": ".py",
   "mimetype": "text/x-python",
   "name": "python",
   "nbconvert_exporter": "python",
   "pygments_lexer": "ipython3",
   "version": "3.11.3"
  }
 },
 "nbformat": 4,
 "nbformat_minor": 5
}
