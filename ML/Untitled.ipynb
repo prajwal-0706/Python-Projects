{
 "cells": [
  {
   "cell_type": "code",
   "execution_count": 1,
   "id": "83b3e144",
   "metadata": {},
   "outputs": [],
   "source": [
    "import os"
   ]
  },
  {
   "cell_type": "code",
   "execution_count": 3,
   "id": "783e6328",
   "metadata": {},
   "outputs": [],
   "source": [
    "def option_one():\n",
    "    os.system(\"calc\")\n",
    "\n",
    "def option_two():\n",
    "    os.system(\"notepad\")\n",
    "\n",
    "def option_three():\n",
    "    os.system(\"chrome\")\n",
    "\n",
    "def option_four():\n",
    "    os.system(\"start iexplore\")\n",
    "\n",
    "def main():\n",
    "\n",
    "    print(\"Menu:\")\n",
    "    print(\"1. Calculator\")\n",
    "    print(\"2. Notepad\")\n",
    "    print(\"3. Chrome\")\n",
    "    print(\"4. Explorer\")\n",
    "\n",
    "    choice = input(\"Enter your choice: \")\n",
    "\n",
    "    if choice == \"1\":\n",
    "        option_one()\n",
    "    elif choice == \"2\":\n",
    "        option_two()\n",
    "    elif choice == \"3\":\n",
    "        option_three()\n",
    "    elif choice == \"4\":\n",
    "        option_four()\n",
    "\n",
    "    else:\n",
    "        print(\"Invalid choice. Please select a valid option.\")\n",
    "\n"
   ]
  },
  {
   "cell_type": "code",
   "execution_count": 5,
   "id": "04411165",
   "metadata": {},
   "outputs": [
    {
     "name": "stdout",
     "output_type": "stream",
     "text": [
      "Menu:\n",
      "1. Calculator\n",
      "2. Notepad\n",
      "3. Chrome\n",
      "4. Explorer\n",
      "Enter your choice: 5\n",
      "Invalid choice. Please select a valid option.\n"
     ]
    }
   ],
   "source": [
    "main()"
   ]
  },
  {
   "cell_type": "code",
   "execution_count": 2,
   "id": "7a3acaca",
   "metadata": {},
   "outputs": [
    {
     "data": {
      "text/plain": [
       "0"
      ]
     },
     "execution_count": 2,
     "metadata": {},
     "output_type": "execute_result"
    }
   ],
   "source": [
    "os.system(\"start iexplore\")"
   ]
  },
  {
   "cell_type": "code",
   "execution_count": null,
   "id": "01611517",
   "metadata": {},
   "outputs": [],
   "source": []
  }
 ],
 "metadata": {
  "kernelspec": {
   "display_name": "Python 3 (ipykernel)",
   "language": "python",
   "name": "python3"
  },
  "language_info": {
   "codemirror_mode": {
    "name": "ipython",
    "version": 3
   },
   "file_extension": ".py",
   "mimetype": "text/x-python",
   "name": "python",
   "nbconvert_exporter": "python",
   "pygments_lexer": "ipython3",
   "version": "3.11.3"
  }
 },
 "nbformat": 4,
 "nbformat_minor": 5
}
