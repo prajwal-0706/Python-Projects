{
 "cells": [
  {
   "cell_type": "code",
   "execution_count": null,
   "id": "b43b6d5d",
   "metadata": {},
   "outputs": [],
   "source": [
    "import cv2\n",
    "from cvzone.HandTrackingModule import HandDetector\n",
    "import boto3\n",
    "import time \n",
    "\n",
    "def genOS():\n",
    "    ec2=boto3.resource('ec2')\n",
    "    instances= ec2.create_instances(MinCount=1, MaxCount=1, InstanceType=\"t2.micro\", ImageId=\"ami-0a2acf24c0d86e927\")\n",
    "   \n",
    "\n",
    "    \n",
    "detector = HandDetector(maxHands=1)\n",
    "\n",
    "cap = cv2.VideoCapture(0)\n",
    "\n",
    "while True:\n",
    "    ret,  photo = cap.read()\n",
    "    hand = detector.findHands(photo , draw=False)\n",
    "    if hand:\n",
    "        detectHand = hand[0]\n",
    "        if detectHand:\n",
    "            fingerup = detector.fingersUp(detectHand)\n",
    "            \n",
    "            if fingerup = [1,0,0,0,0]:\n",
    "                genOS()\n",
    "                time.sleep(2)\n",
    "                \n",
    "                \n",
    "            elif fingerup = [1,1,1,1,1]:\n",
    "                genOS()\n",
    "                time.sleep(2)\n",
    "            \n",
    "    cv2.imshow(\"my photo\", photo)\n",
    "    if cv2.waitKey(2000) == 27:\n",
    "        break\n",
    "        \n",
    "cv2.destroyAllWindows()\n",
    "cap.release()"
   ]
  }
 ],
 "metadata": {
  "kernelspec": {
   "display_name": "Python 3 (ipykernel)",
   "language": "python",
   "name": "python3"
  },
  "language_info": {
   "codemirror_mode": {
    "name": "ipython",
    "version": 3
   },
   "file_extension": ".py",
   "mimetype": "text/x-python",
   "name": "python",
   "nbconvert_exporter": "python",
   "pygments_lexer": "ipython3",
   "version": "3.11.3"
  }
 },
 "nbformat": 4,
 "nbformat_minor": 5
}
