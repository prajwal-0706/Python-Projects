{
 "cells": [
  {
   "cell_type": "code",
   "execution_count": 2,
   "id": "be8de4c7",
   "metadata": {},
   "outputs": [],
   "source": [
    "import smtplib\n",
    "import pywhatkit\n",
    "import os"
   ]
  },
  {
   "cell_type": "code",
   "execution_count": 7,
   "id": "e161028d",
   "metadata": {
    "scrolled": true
   },
   "outputs": [
    {
     "name": "stdout",
     "output_type": "stream",
     "text": [
      "Success\n"
     ]
    }
   ],
   "source": [
    "server = smtplib.SMTP('smtp.gmail.com', 587)\n",
    "\n",
    "server.starttls()\n",
    "\n",
    "server.login('gadhaveprajwal41@gmail.com', 'qxwe erbc uass emvy')\n",
    "\n",
    "server.sendmail('gadhaveprajwal41@gmail.com', 'prajwalgdhave952@gmail.com', \"Mail sent from python\")\n",
    "\n",
    "print(\"Success\")"
   ]
  },
  {
   "cell_type": "code",
   "execution_count": 8,
   "id": "677512f8",
   "metadata": {},
   "outputs": [
    {
     "name": "stdout",
     "output_type": "stream",
     "text": [
      "Email Sent Successfully!\n"
     ]
    }
   ],
   "source": [
    "pywhatkit.send_mail(\n",
    "    'gadhaveprajwal41@gmail.com',\n",
    "    'qxwe erbc uass emvy',\n",
    "    \"Hello\",\n",
    "    \"Hlo from python\",\n",
    "    'prajwalgadhave356@gmail.com'\n",
    "    )"
   ]
  },
  {
   "cell_type": "code",
   "execution_count": null,
   "id": "05d48923",
   "metadata": {},
   "outputs": [],
   "source": []
  }
 ],
 "metadata": {
  "kernelspec": {
   "display_name": "Python 3 (ipykernel)",
   "language": "python",
   "name": "python3"
  },
  "language_info": {
   "codemirror_mode": {
    "name": "ipython",
    "version": 3
   },
   "file_extension": ".py",
   "mimetype": "text/x-python",
   "name": "python",
   "nbconvert_exporter": "python",
   "pygments_lexer": "ipython3",
   "version": "3.11.3"
  }
 },
 "nbformat": 4,
 "nbformat_minor": 5
}
